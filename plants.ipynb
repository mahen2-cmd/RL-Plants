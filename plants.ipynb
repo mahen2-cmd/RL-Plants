{
 "cells": [
  {
   "cell_type": "code",
   "execution_count": 193,
   "metadata": {},
   "outputs": [],
   "source": [
    "import mesa\n",
    "import seaborn as sns\n",
    "import numpy as np\n",
    "import random\n",
    "import pandas as pd"
   ]
  },
  {
   "cell_type": "code",
   "execution_count": 194,
   "metadata": {},
   "outputs": [],
   "source": [
    "class PlantAgent(mesa.Agent):\n",
    "\n",
    "    def __init__(self, unique_id, model):\n",
    "        super().__init__(unique_id, model)\n",
    "\n",
    "        self.alive = True\n",
    "\n",
    "        self.age = 0\n",
    "        self.harvested = False\n",
    "\n",
    "    def step(self):\n",
    "        if self.alive:\n",
    "            if self.age != 10:\n",
    "                self.age += 1\n",
    "\n",
    "        if self.age == 10:\n",
    "            self.harvested = True\n",
    "\n",
    "        # print(f\"Agent ID: {str(self.unique_id)} Agent Status: {self.alive} Agent Life: {str(self.age)} Harvest Status: {self.harvested}\")\n",
    "\n",
    "        if not self.alive or self.harvested:\n",
    "            return\n",
    "\n",
    "\n",
    "        death_outcome = random.choices([False, True], weights=[0.1, 0.9], k=1)[0]\n",
    "\n",
    "        self.alive = death_outcome\n"
   ]
  },
  {
   "cell_type": "code",
   "execution_count": null,
   "metadata": {},
   "outputs": [],
   "source": [
    "# Development of an agent-based simulation model in combination with reinforcement learning in Python using Mesa library\n",
    "\n",
    "\n",
    "\n",
    "# - At the beginning of an episode, 10 plants (as agents) are planted\n",
    "\n",
    "# - Plants must grow for 10 days (steps) before they can be harvested.\n",
    "\n",
    "# - Each plant has a 10% chance of dying every day.\n",
    "\n",
    "# - A new (fresh) plant can be bought every day (cost $10) to be planted\n",
    "\n",
    "# - The aim is to harvest 10 plants that each grew for 10 days. When the goal is reached, there is a reward of $20 per plant harvested and the episode ends\n",
    "\n",
    "# - Each day of the episode costs $5\n",
    "\n",
    "# - Reinforcement learning is now used to find a strategy when to plant new trees that minimizes total costs."
   ]
  },
  {
   "cell_type": "code",
   "execution_count": 195,
   "metadata": {},
   "outputs": [],
   "source": [
    "class PlantModel(mesa.Model):\n",
    "\n",
    "    def __init__(self, N):\n",
    "        super().__init__()\n",
    "\n",
    "        self.num_agents = N\n",
    "\n",
    "        self.number_of_days = 0\n",
    "        self.number_of_plants_harvested = 0\n",
    "\n",
    "        self.schedule = mesa.time.RandomActivation(self)\n",
    "\n",
    "        for i in range(self.num_agents):\n",
    "            a = PlantAgent(i, self)\n",
    "            self.schedule.add(a)\n",
    "\n",
    "    def get_state(self):\n",
    "        agents = [a for a in self.schedule.agents]\n",
    "        state = [(0, 0) for i in range(len(agents))]\n",
    "\n",
    "        for a in agents:\n",
    "            print(\n",
    "                f\"Agent ID: {str(a.unique_id)}     Agent Status: {a.alive}     Agent Life: {str(a.age)}     Harvest Status: {a.harvested}\"\n",
    "            )\n",
    "\n",
    "            state[a.unique_id] = (a.alive, a.age)\n",
    "\n",
    "        return state\n",
    "\n",
    "    def check_terminated(self, observation):\n",
    "        return list(map(lambda x: x[1] == 10, observation)).count(True)\n",
    "\n",
    "    def step(self, action):\n",
    "\n",
    "        self.number_of_days += 1\n",
    "        terminated = 0\n",
    "        truncated = False\n",
    "        reward = -5\n",
    "\n",
    "        if action == 1:\n",
    "            self.num_agents += 1\n",
    "            a = PlantAgent(self.num_agents - 1, self)\n",
    "            self.schedule.add(a)\n",
    "\n",
    "            reward -= 10\n",
    "\n",
    "        self.schedule.step()\n",
    "\n",
    "        observation = self.get_state()\n",
    "\n",
    "\n",
    "        number_of_plants_harvested = list(map(lambda x: x[0] and x[1] == 10, observation)).count(True)\n",
    "        difference = number_of_plants_harvested - self.number_of_plants_harvested\n",
    "        reward += difference * 20\n",
    "\n",
    "        self.number_of_plants_harvested = number_of_plants_harvested\n",
    "\n",
    "        if self.number_of_days == 500:\n",
    "            truncated = True\n",
    "\n",
    "        if self.number_of_plants_harvested == 10:\n",
    "            terminated = 1\n",
    "\n",
    "        return observation, reward, terminated, truncated"
   ]
  },
  {
   "cell_type": "markdown",
   "metadata": {},
   "source": [
    "Thera are a few things to consider\n",
    "\n",
    "Terminal State: This would be achieved when we have 10 plants  \n",
    "Truncation: It should eventually converge in 500 iterations. No more than 500 steps.  \n",
    "Reward: Positive for harvesting and negative for buying a plant plus on each step you get a negative reward  \n",
    "Observation: This would be the current state. The state would be a list of tuples (status_of_death, age)  "
   ]
  },
  {
   "cell_type": "code",
   "execution_count": null,
   "metadata": {},
   "outputs": [],
   "source": [
    "# Essentially what you want the state space to be is that you want to know the status of each plant (alive, life, harvested) and the total cost so far\n",
    "\n",
    "# And, so we need to construct our state space.\n",
    "\n",
    "# There must be a function that constructs this state space for the model. The state space can also be infinite as we need to see what kind of things we have to make it in there.b\n"
   ]
  },
  {
   "cell_type": "markdown",
   "metadata": {},
   "source": [
    "Question is how many plants are alive at the moment and what is their lifespan at each category. We need some good strategies to reduce the state space of each plant too.\n",
    "\n",
    "Once they are dead they are also removed from the equation at each step.\n",
    "\n",
    "But, the state space would exponentially increase if we allow it to be.\n",
    "\n",
    "We want the status, age and this would contain all the information that we need. This contains everything we need.\n",
    "And, hence our data structure should accomodate those changes. The changes should be that it is a list of tuples. The tuple would be of (status, age)"
   ]
  },
  {
   "cell_type": "code",
   "execution_count": 196,
   "metadata": {},
   "outputs": [],
   "source": [
    "model = PlantModel(10)"
   ]
  },
  {
   "cell_type": "code",
   "execution_count": 229,
   "metadata": {},
   "outputs": [
    {
     "name": "stdout",
     "output_type": "stream",
     "text": [
      "Agent ID: 18     Agent Status: True     Agent Life: 10     Harvest Status: True\n",
      "Agent ID: 4     Agent Status: False     Agent Life: 7     Harvest Status: False\n",
      "Agent ID: 13     Agent Status: True     Agent Life: 10     Harvest Status: True\n",
      "Agent ID: 15     Agent Status: True     Agent Life: 10     Harvest Status: True\n",
      "Agent ID: 1     Agent Status: False     Agent Life: 6     Harvest Status: False\n",
      "Agent ID: 12     Agent Status: False     Agent Life: 2     Harvest Status: False\n",
      "Agent ID: 16     Agent Status: False     Agent Life: 1     Harvest Status: False\n",
      "Agent ID: 3     Agent Status: False     Agent Life: 1     Harvest Status: False\n",
      "Agent ID: 8     Agent Status: False     Agent Life: 1     Harvest Status: False\n",
      "Agent ID: 17     Agent Status: True     Agent Life: 10     Harvest Status: True\n",
      "Agent ID: 9     Agent Status: True     Agent Life: 10     Harvest Status: True\n",
      "Agent ID: 10     Agent Status: False     Agent Life: 5     Harvest Status: False\n",
      "Agent ID: 20     Agent Status: True     Agent Life: 8     Harvest Status: False\n",
      "Agent ID: 19     Agent Status: False     Agent Life: 9     Harvest Status: False\n",
      "Agent ID: 5     Agent Status: True     Agent Life: 10     Harvest Status: True\n",
      "Agent ID: 0     Agent Status: True     Agent Life: 10     Harvest Status: True\n",
      "Agent ID: 7     Agent Status: False     Agent Life: 4     Harvest Status: False\n",
      "Agent ID: 2     Agent Status: True     Agent Life: 10     Harvest Status: True\n",
      "Agent ID: 14     Agent Status: True     Agent Life: 10     Harvest Status: True\n",
      "Agent ID: 6     Agent Status: True     Agent Life: 10     Harvest Status: True\n",
      "Agent ID: 11     Agent Status: False     Agent Life: 3     Harvest Status: False\n",
      "\n"
     ]
    }
   ],
   "source": [
    "for i in range(500):\n",
    "    observation, reward, terminated, truncated = model.step(0)\n",
    "    print()"
   ]
  },
  {
   "cell_type": "code",
   "execution_count": 230,
   "metadata": {},
   "outputs": [
    {
     "data": {
      "text/plain": [
       "[(True, 10),\n",
       " (False, 6),\n",
       " (True, 10),\n",
       " (False, 1),\n",
       " (False, 7),\n",
       " (True, 10),\n",
       " (True, 10),\n",
       " (False, 4),\n",
       " (False, 1),\n",
       " (True, 10),\n",
       " (False, 5),\n",
       " (False, 3),\n",
       " (False, 2),\n",
       " (True, 10),\n",
       " (True, 10),\n",
       " (True, 10),\n",
       " (False, 1),\n",
       " (True, 10),\n",
       " (True, 10),\n",
       " (False, 9),\n",
       " (True, 8)]"
      ]
     },
     "execution_count": 230,
     "metadata": {},
     "output_type": "execute_result"
    }
   ],
   "source": [
    "observation"
   ]
  },
  {
   "cell_type": "code",
   "execution_count": 231,
   "metadata": {},
   "outputs": [
    {
     "data": {
      "text/plain": [
       "(15, 1, False)"
      ]
     },
     "execution_count": 231,
     "metadata": {},
     "output_type": "execute_result"
    }
   ],
   "source": [
    "reward, terminated, truncated"
   ]
  },
  {
   "cell_type": "code",
   "execution_count": 98,
   "metadata": {},
   "outputs": [],
   "source": [
    "agents = [a for a in model.schedule.agents]"
   ]
  },
  {
   "cell_type": "code",
   "execution_count": 99,
   "metadata": {},
   "outputs": [
    {
     "name": "stdout",
     "output_type": "stream",
     "text": [
      "Agent ID: 1     Agent Status: True     Agent Life: 10     Harvest Status: True\n",
      "Agent ID: 8     Agent Status: False     Agent Life: 3     Harvest Status: False\n",
      "Agent ID: 9     Agent Status: False     Agent Life: 5     Harvest Status: False\n",
      "Agent ID: 6     Agent Status: False     Agent Life: 4     Harvest Status: False\n",
      "Agent ID: 4     Agent Status: False     Agent Life: 9     Harvest Status: False\n",
      "Agent ID: 0     Agent Status: True     Agent Life: 10     Harvest Status: True\n",
      "Agent ID: 7     Agent Status: True     Agent Life: 10     Harvest Status: True\n",
      "Agent ID: 2     Agent Status: False     Agent Life: 2     Harvest Status: False\n",
      "Agent ID: 5     Agent Status: False     Agent Life: 4     Harvest Status: False\n",
      "Agent ID: 3     Agent Status: False     Agent Life: 8     Harvest Status: False\n"
     ]
    }
   ],
   "source": [
    "observation = [(0, 0) for i in range(len(agents))]\n",
    "\n",
    "for a in agents:\n",
    "    print(f\"Agent ID: {str(a.unique_id)}     Agent Status: {a.alive}     Agent Life: {str(a.age)}     Harvest Status: {a.harvested}\")\n",
    "\n",
    "    observation[a.unique_id] = (a.alive, a.age)"
   ]
  },
  {
   "cell_type": "code",
   "execution_count": 101,
   "metadata": {},
   "outputs": [
    {
     "data": {
      "text/plain": [
       "[(True, 10),\n",
       " (True, 10),\n",
       " (False, 2),\n",
       " (False, 8),\n",
       " (False, 9),\n",
       " (False, 4),\n",
       " (False, 4),\n",
       " (True, 10),\n",
       " (False, 3),\n",
       " (False, 5)]"
      ]
     },
     "execution_count": 101,
     "metadata": {},
     "output_type": "execute_result"
    }
   ],
   "source": [
    "observation"
   ]
  },
  {
   "cell_type": "code",
   "execution_count": 104,
   "metadata": {},
   "outputs": [
    {
     "data": {
      "text/plain": [
       "3"
      ]
     },
     "execution_count": 104,
     "metadata": {},
     "output_type": "execute_result"
    }
   ],
   "source": [
    "list(map(lambda x: x[1] == 10, observation)).count(True)"
   ]
  }
 ],
 "metadata": {
  "kernelspec": {
   "display_name": "Python 3",
   "language": "python",
   "name": "python3"
  },
  "language_info": {
   "codemirror_mode": {
    "name": "ipython",
    "version": 3
   },
   "file_extension": ".py",
   "mimetype": "text/x-python",
   "name": "python",
   "nbconvert_exporter": "python",
   "pygments_lexer": "ipython3",
   "version": "3.11.4"
  }
 },
 "nbformat": 4,
 "nbformat_minor": 2
}
